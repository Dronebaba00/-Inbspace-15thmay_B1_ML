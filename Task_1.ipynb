{
 "cells": [
  {
   "cell_type": "code",
   "execution_count": null,
   "metadata": {},
   "outputs": [],
   "source": [
    "# TASK 1 - to convert this data into dictionary with some of the above mentioned functions # enumerate, map, zip, **kwargs"
   ]
  },
  {
   "cell_type": "code",
   "execution_count": 102,
   "metadata": {},
   "outputs": [
    {
     "name": "stdout",
     "output_type": "stream",
     "text": [
      "[('ind', (2, 'XYZ', 0.0)), ('name', (3, 'threedata', 0.0)), ('price', (4, 'four', 0.0))]\n"
     ]
    }
   ],
   "source": [
    "Dict={}\n",
    "col = ['ind','name','price']\n",
    "Data=[(2, 'XYZ', 0.0),\n",
    " (3, 'threedata', 0.0),\n",
    " (4, 'four', 0.0),\n",
    " (5, 'somthing', 0.0)]\n",
    "Dict = list(zip(col,Data))\n",
    "print(Dict)"
   ]
  },
  {
   "cell_type": "raw",
   "metadata": {},
   "source": [
    "{'ind': [2, 3, 4, 5],\n",
    " 'name': ['XYZ', 'threedata', 'four', 'somthing'],\n",
    " 'price': [0.0, 0.0, 0.0, 0.0]}"
   ]
  },
  {
   "cell_type": "code",
   "execution_count": 103,
   "metadata": {},
   "outputs": [],
   "source": [
    "d = {i:[] for i in col}\n",
    "for i in range(len(col)):\n",
    "    for v in Data:    \n",
    "        d[col[i]] += [v[i]]      "
   ]
  },
  {
   "cell_type": "code",
   "execution_count": 104,
   "metadata": {},
   "outputs": [
    {
     "name": "stdout",
     "output_type": "stream",
     "text": [
      "{'ind': [2, 3, 4, 5], 'name': ['XYZ', 'threedata', 'four', 'somthing'], 'price': [0.0, 0.0, 0.0, 0.0]}\n"
     ]
    }
   ],
   "source": [
    "print(d) "
   ]
  },
  {
   "cell_type": "code",
   "execution_count": null,
   "metadata": {},
   "outputs": [],
   "source": []
  }
 ],
 "metadata": {
  "kernelspec": {
   "display_name": "Python 3",
   "language": "python",
   "name": "python3"
  },
  "language_info": {
   "codemirror_mode": {
    "name": "ipython",
    "version": 3
   },
   "file_extension": ".py",
   "mimetype": "text/x-python",
   "name": "python",
   "nbconvert_exporter": "python",
   "pygments_lexer": "ipython3",
   "version": "3.7.0"
  }
 },
 "nbformat": 4,
 "nbformat_minor": 2
}
